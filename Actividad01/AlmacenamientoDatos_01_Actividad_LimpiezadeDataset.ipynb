{
  "nbformat": 4,
  "nbformat_minor": 0,
  "metadata": {
    "colab": {
      "name": "AlmacenamientoDatos_01_Actividad_LimpiezadeDataset.ipynb",
      "provenance": [],
      "collapsed_sections": [],
      "authorship_tag": "ABX9TyM74yZGNcM3PXkkZnJFu/rX"
    },
    "kernelspec": {
      "name": "python3",
      "display_name": "Python 3"
    },
    "language_info": {
      "name": "python"
    }
  },
  "cells": [
    {
      "cell_type": "code",
      "metadata": {
        "id": "Vf08Uibd4JLC"
      },
      "source": [
        "import numpy as np\n",
        "import pandas as pd\n",
        "import csv\n",
        "import fileinput\n"
      ],
      "execution_count": 1,
      "outputs": []
    },
    {
      "cell_type": "code",
      "metadata": {
        "id": "meiytkMA4O5z"
      },
      "source": [
        "rawfile = 'data_act_01.csv'\n",
        "rawdf = pd.read_csv(rawfile, sep=';')"
      ],
      "execution_count": 2,
      "outputs": []
    },
    {
      "cell_type": "markdown",
      "metadata": {
        "id": "hSh5YKO65Cbd"
      },
      "source": [
        "Como primer punto analizamos los tipos de datos para realizar las conversiones necesarias"
      ]
    },
    {
      "cell_type": "code",
      "metadata": {
        "colab": {
          "base_uri": "https://localhost:8080/"
        },
        "id": "cye-PTo49LGb",
        "outputId": "70d5d5da-4b36-460d-ea56-8a25c4d3e957"
      },
      "source": [
        "rawdf.dtypes"
      ],
      "execution_count": 3,
      "outputs": [
        {
          "output_type": "execute_result",
          "data": {
            "text/plain": [
              "CrimeId                    int64\n",
              "OriginalCrimeTypeName     object\n",
              "OffenseDate               object\n",
              "CallTime                  object\n",
              "CallDateTime              object\n",
              "Disposition               object\n",
              "Address                   object\n",
              "City                      object\n",
              "State                     object\n",
              "AgencyId                  object\n",
              "Range                    float64\n",
              "AddressType               object\n",
              "dtype: object"
            ]
          },
          "metadata": {},
          "execution_count": 3
        }
      ]
    },
    {
      "cell_type": "markdown",
      "metadata": {
        "id": "6W3qTq7L7nzq"
      },
      "source": [
        "Al intentar convertir el campo AgendyId al tipo número, encontramos que existen valores no numéricos:"
      ]
    },
    {
      "cell_type": "code",
      "metadata": {
        "colab": {
          "base_uri": "https://localhost:8080/"
        },
        "id": "aEUUAWwk7rHQ",
        "outputId": "c65dc460-f9ea-44f5-d067-3072593f1093"
      },
      "source": [
        "uniqueAgencyValues = rawdf['AgencyId'].unique()\n",
        "print('Elementos en el campo \"AgencyId\" que estámos intentando convertir a número: ')\n",
        "print(uniqueAgencyValues)"
      ],
      "execution_count": 4,
      "outputs": [
        {
          "output_type": "stream",
          "name": "stdout",
          "text": [
            "Elementos en el campo \"AgencyId\" que estámos intentando convertir a número: \n",
            "['1' 'CA']\n"
          ]
        }
      ]
    },
    {
      "cell_type": "markdown",
      "metadata": {
        "id": "cruPTWpu_Zqk"
      },
      "source": [
        "Por lo que hacemos una búsqueda de los renglones que generarían este error para intentar corregirlos:"
      ]
    },
    {
      "cell_type": "code",
      "metadata": {
        "colab": {
          "base_uri": "https://localhost:8080/",
          "height": 143
        },
        "id": "nElLR49A_h1N",
        "outputId": "51e75d54-46a3-46ba-e2c8-d0500fc4b890"
      },
      "source": [
        "rawdf[pd.to_numeric(rawdf['AgencyId'], errors='coerce').isnull()]"
      ],
      "execution_count": 5,
      "outputs": [
        {
          "output_type": "execute_result",
          "data": {
            "text/html": [
              "<div>\n",
              "<style scoped>\n",
              "    .dataframe tbody tr th:only-of-type {\n",
              "        vertical-align: middle;\n",
              "    }\n",
              "\n",
              "    .dataframe tbody tr th {\n",
              "        vertical-align: top;\n",
              "    }\n",
              "\n",
              "    .dataframe thead th {\n",
              "        text-align: right;\n",
              "    }\n",
              "</style>\n",
              "<table border=\"1\" class=\"dataframe\">\n",
              "  <thead>\n",
              "    <tr style=\"text-align: right;\">\n",
              "      <th></th>\n",
              "      <th>CrimeId</th>\n",
              "      <th>OriginalCrimeTypeName</th>\n",
              "      <th>OffenseDate</th>\n",
              "      <th>CallTime</th>\n",
              "      <th>CallDateTime</th>\n",
              "      <th>Disposition</th>\n",
              "      <th>Address</th>\n",
              "      <th>City</th>\n",
              "      <th>State</th>\n",
              "      <th>AgencyId</th>\n",
              "      <th>Range</th>\n",
              "      <th>AddressType</th>\n",
              "    </tr>\n",
              "  </thead>\n",
              "  <tbody>\n",
              "    <tr>\n",
              "      <th>5771</th>\n",
              "      <td>160942112</td>\n",
              "      <td>Auto Boost / Strip</td>\n",
              "      <td>2016-04-03T00:00:00</td>\n",
              "      <td>14:30</td>\n",
              "      <td>2016-04-03T14:30:00</td>\n",
              "      <td>REP</td>\n",
              "      <td>Martin Luther King Dr/bowling Green Dr</td>\n",
              "      <td>NaN</td>\n",
              "      <td>NaN</td>\n",
              "      <td>CA</td>\n",
              "      <td>NaN</td>\n",
              "      <td>1</td>\n",
              "    </tr>\n",
              "    <tr>\n",
              "      <th>8021</th>\n",
              "      <td>160952280</td>\n",
              "      <td>Auto Boost / Strip</td>\n",
              "      <td>2016-04-04T00:00:00</td>\n",
              "      <td>14:46</td>\n",
              "      <td>2016-04-04T14:46:00</td>\n",
              "      <td>REP</td>\n",
              "      <td>Martin Luther King Dr/nancy Pelosi Dr</td>\n",
              "      <td>S</td>\n",
              "      <td>NaN</td>\n",
              "      <td>CA</td>\n",
              "      <td>NaN</td>\n",
              "      <td>1</td>\n",
              "    </tr>\n",
              "    <tr>\n",
              "      <th>8473</th>\n",
              "      <td>160953118</td>\n",
              "      <td>Auto Boost / Strip</td>\n",
              "      <td>2016-04-04T00:00:00</td>\n",
              "      <td>18:11</td>\n",
              "      <td>2016-04-04T18:11:00</td>\n",
              "      <td>REP</td>\n",
              "      <td>Conservatory Drive E/john F Kennedy Dr</td>\n",
              "      <td>NaN</td>\n",
              "      <td>NaN</td>\n",
              "      <td>CA</td>\n",
              "      <td>NaN</td>\n",
              "      <td>1</td>\n",
              "    </tr>\n",
              "  </tbody>\n",
              "</table>\n",
              "</div>"
            ],
            "text/plain": [
              "        CrimeId OriginalCrimeTypeName  ... Range AddressType\n",
              "5771  160942112    Auto Boost / Strip  ...   NaN           1\n",
              "8021  160952280    Auto Boost / Strip  ...   NaN           1\n",
              "8473  160953118    Auto Boost / Strip  ...   NaN           1\n",
              "\n",
              "[3 rows x 12 columns]"
            ]
          },
          "metadata": {},
          "execution_count": 5
        }
      ]
    },
    {
      "cell_type": "markdown",
      "metadata": {
        "id": "HJdBOlWNMSZ6"
      },
      "source": [
        "Una vez que obtenemos los registros que tendrían problema, revisamos estos renglones directamente en el archivo, como texto plano, para identificar el problema que tiene esos renglones y buscar una solución:"
      ]
    },
    {
      "cell_type": "code",
      "metadata": {
        "colab": {
          "base_uri": "https://localhost:8080/"
        },
        "id": "fMNkQ1G2OITy",
        "outputId": "904dcf21-b95c-4537-90ed-a4172d653d2c"
      },
      "source": [
        "nullrows = list(map(lambda x : x + 1, rawdf.index[rawdf['State'].isnull()].tolist()))\n",
        "with open(rawfile) as flatfile:\n",
        "    reader=csv.reader(flatfile)\n",
        "    reviewrows=[row for idx, row in enumerate(reader) if idx in (nullrows)]\n",
        "\n",
        "reviewrows"
      ],
      "execution_count": 6,
      "outputs": [
        {
          "output_type": "execute_result",
          "data": {
            "text/plain": [
              "[['160942112;Auto Boost / Strip;2016-04-03T00:00:00;14:30;2016-04-03T14:30:00;REP;Martin Luther King Dr/bowling Green Dr;;;CA;;1'],\n",
              " ['160952280;Auto Boost / Strip;2016-04-04T00:00:00;14:46;2016-04-04T14:46:00;REP;Martin Luther King Dr/nancy Pelosi Dr; S;;CA;;1'],\n",
              " ['160953118;Auto Boost / Strip;2016-04-04T00:00:00;18:11;2016-04-04T18:11:00;REP;Conservatory Drive E/john F Kennedy Dr;;;CA;;1']]"
            ]
          },
          "metadata": {},
          "execution_count": 6
        }
      ]
    },
    {
      "cell_type": "markdown",
      "metadata": {
        "id": "US2EHmrAU5mL"
      },
      "source": [
        "Una vez indentificados los renglones con problemas, y comparando los valores con las columnas o incluso con otros renglones, podemos ver que el problema se presenta porque el formato y número de columnas no es el adecuado, así que reemplazamos el valor incorrecto por un formato adecuado, para corregir los renglones."
      ]
    },
    {
      "cell_type": "code",
      "metadata": {
        "id": "XnMBE-v0mMw9"
      },
      "source": [
        "searchfor = ';;CA;;1'\n",
        "replacewith = ';CA;1;;'\n",
        "\n",
        "with fileinput.FileInput(rawfile, inplace=True, backup='.bak') as file:\n",
        "    for line in file:\n",
        "        print(line.replace(searchfor, replacewith), end='')"
      ],
      "execution_count": 7,
      "outputs": []
    },
    {
      "cell_type": "markdown",
      "metadata": {
        "id": "kqG6JBFVrRG5"
      },
      "source": [
        "Corregidos los renglones, volvemos a cargar el archivo ya preparado:"
      ]
    },
    {
      "cell_type": "code",
      "metadata": {
        "id": "CJQ5XkNNq3F5"
      },
      "source": [
        "prepared = pd.read_csv(rawfile, sep=';')"
      ],
      "execution_count": 8,
      "outputs": []
    },
    {
      "cell_type": "code",
      "metadata": {
        "colab": {
          "base_uri": "https://localhost:8080/",
          "height": 143
        },
        "id": "TnrGxMlmUts9",
        "outputId": "af3fc015-3d35-4887-ff0e-c3ac881cceb9"
      },
      "source": [
        "nullrowsN = list(map(lambda x: x-1, nullrows))\n",
        "prepared.iloc[nullrowsN]"
      ],
      "execution_count": 9,
      "outputs": [
        {
          "output_type": "execute_result",
          "data": {
            "text/html": [
              "<div>\n",
              "<style scoped>\n",
              "    .dataframe tbody tr th:only-of-type {\n",
              "        vertical-align: middle;\n",
              "    }\n",
              "\n",
              "    .dataframe tbody tr th {\n",
              "        vertical-align: top;\n",
              "    }\n",
              "\n",
              "    .dataframe thead th {\n",
              "        text-align: right;\n",
              "    }\n",
              "</style>\n",
              "<table border=\"1\" class=\"dataframe\">\n",
              "  <thead>\n",
              "    <tr style=\"text-align: right;\">\n",
              "      <th></th>\n",
              "      <th>CrimeId</th>\n",
              "      <th>OriginalCrimeTypeName</th>\n",
              "      <th>OffenseDate</th>\n",
              "      <th>CallTime</th>\n",
              "      <th>CallDateTime</th>\n",
              "      <th>Disposition</th>\n",
              "      <th>Address</th>\n",
              "      <th>City</th>\n",
              "      <th>State</th>\n",
              "      <th>AgencyId</th>\n",
              "      <th>Range</th>\n",
              "      <th>AddressType</th>\n",
              "    </tr>\n",
              "  </thead>\n",
              "  <tbody>\n",
              "    <tr>\n",
              "      <th>5771</th>\n",
              "      <td>160942112</td>\n",
              "      <td>Auto Boost / Strip</td>\n",
              "      <td>2016-04-03T00:00:00</td>\n",
              "      <td>14:30</td>\n",
              "      <td>2016-04-03T14:30:00</td>\n",
              "      <td>REP</td>\n",
              "      <td>Martin Luther King Dr/bowling Green Dr</td>\n",
              "      <td>NaN</td>\n",
              "      <td>CA</td>\n",
              "      <td>1</td>\n",
              "      <td>NaN</td>\n",
              "      <td>NaN</td>\n",
              "    </tr>\n",
              "    <tr>\n",
              "      <th>8021</th>\n",
              "      <td>160952280</td>\n",
              "      <td>Auto Boost / Strip</td>\n",
              "      <td>2016-04-04T00:00:00</td>\n",
              "      <td>14:46</td>\n",
              "      <td>2016-04-04T14:46:00</td>\n",
              "      <td>REP</td>\n",
              "      <td>Martin Luther King Dr/nancy Pelosi Dr</td>\n",
              "      <td>S</td>\n",
              "      <td>CA</td>\n",
              "      <td>1</td>\n",
              "      <td>NaN</td>\n",
              "      <td>NaN</td>\n",
              "    </tr>\n",
              "    <tr>\n",
              "      <th>8473</th>\n",
              "      <td>160953118</td>\n",
              "      <td>Auto Boost / Strip</td>\n",
              "      <td>2016-04-04T00:00:00</td>\n",
              "      <td>18:11</td>\n",
              "      <td>2016-04-04T18:11:00</td>\n",
              "      <td>REP</td>\n",
              "      <td>Conservatory Drive E/john F Kennedy Dr</td>\n",
              "      <td>NaN</td>\n",
              "      <td>CA</td>\n",
              "      <td>1</td>\n",
              "      <td>NaN</td>\n",
              "      <td>NaN</td>\n",
              "    </tr>\n",
              "  </tbody>\n",
              "</table>\n",
              "</div>"
            ],
            "text/plain": [
              "        CrimeId OriginalCrimeTypeName  ... Range AddressType\n",
              "5771  160942112    Auto Boost / Strip  ...   NaN         NaN\n",
              "8021  160952280    Auto Boost / Strip  ...   NaN         NaN\n",
              "8473  160953118    Auto Boost / Strip  ...   NaN         NaN\n",
              "\n",
              "[3 rows x 12 columns]"
            ]
          },
          "metadata": {},
          "execution_count": 9
        }
      ]
    },
    {
      "cell_type": "markdown",
      "metadata": {
        "id": "zd6PB5V_VMUG"
      },
      "source": [
        "Al revisar las columnas con valores NaN, encontramos que es común que el campo \"City\" y \"Range\" contengan valores NaN, por lo que los dejamos tal cual.\n",
        "\n",
        "Pero el campo \"AdressType\" no es común que tenga valores NaN, por lo que analizaremos los valores más adecuados para este campo."
      ]
    },
    {
      "cell_type": "code",
      "metadata": {
        "colab": {
          "base_uri": "https://localhost:8080/"
        },
        "id": "YtQ0XgxMVoiW",
        "outputId": "1efae8c6-eee1-4e4c-e716-b930e7f98569"
      },
      "source": [
        "prepared['AddressType'].value_counts()"
      ],
      "execution_count": 10,
      "outputs": [
        {
          "output_type": "execute_result",
          "data": {
            "text/plain": [
              "Premise Address    5059\n",
              "Intersection       3701\n",
              "Common Location     818\n",
              "Geo-Override        469\n",
              "Intersectioon         1\n",
              "Name: AddressType, dtype: int64"
            ]
          },
          "metadata": {},
          "execution_count": 10
        }
      ]
    },
    {
      "cell_type": "markdown",
      "metadata": {
        "id": "5C0y29gMr9e7"
      },
      "source": [
        "Establecemos la moda como valor de los valores NaN:"
      ]
    },
    {
      "cell_type": "code",
      "metadata": {
        "id": "GO0D8_oHFXl8"
      },
      "source": [
        "prepared['AddressType'].fillna('Premise Address', inplace=True)"
      ],
      "execution_count": 11,
      "outputs": []
    },
    {
      "cell_type": "markdown",
      "metadata": {
        "id": "CPMLjyAb4Qp0"
      },
      "source": [
        "Al revisar los valores, podemos ver que existe solo un registro con el valor \"Intersectioon\", haciendo obvio que es un error tipográfico, por lo que hacemos la corrección:"
      ]
    },
    {
      "cell_type": "code",
      "metadata": {
        "id": "qjRNxQBj4bP8"
      },
      "source": [
        "prepared['AddressType'].replace({'Intersectioon': 'Intersection'}, inplace=True)"
      ],
      "execution_count": 12,
      "outputs": []
    },
    {
      "cell_type": "markdown",
      "metadata": {
        "id": "47HOsTEe5y3A"
      },
      "source": [
        "Al corregir los renglones con problema, también nos encontramos que el campo \"City\" tiene algunos valores que no parecen ser los correctos y hacemos la correción:"
      ]
    },
    {
      "cell_type": "code",
      "metadata": {
        "colab": {
          "base_uri": "https://localhost:8080/"
        },
        "id": "nqeAMgeRvXWN",
        "outputId": "e284c259-b073-4402-9e5d-4801711a135c"
      },
      "source": [
        "prepared['City'].value_counts()"
      ],
      "execution_count": 32,
      "outputs": [
        {
          "output_type": "execute_result",
          "data": {
            "text/plain": [
              "San Francisco      9667\n",
              "Not Defined         321\n",
              "Treasure Island      51\n",
              "Daly City             5\n",
              "Yerba Buena           3\n",
              "Presidio              3\n",
              "Brisbane              1\n",
              "Name: City, dtype: int64"
            ]
          },
          "metadata": {},
          "execution_count": 32
        }
      ]
    },
    {
      "cell_type": "code",
      "metadata": {
        "id": "ijiUVclB57lm"
      },
      "source": [
        "prepared['City'].replace({'SAN FRANCISCO': 'San Francisco', ' S': 'San Francisco', 'Treasure Isla': 'Treasure Island'}, inplace=True)"
      ],
      "execution_count": 31,
      "outputs": []
    },
    {
      "cell_type": "markdown",
      "metadata": {
        "id": "0JKyjcnYHhDT"
      },
      "source": [
        "Eliminamos los valores NaN."
      ]
    },
    {
      "cell_type": "code",
      "metadata": {
        "id": "Lq79FVuvGp5M"
      },
      "source": [
        "prepared['City'].fillna('Not Defined', inplace=True)"
      ],
      "execution_count": 15,
      "outputs": []
    },
    {
      "cell_type": "code",
      "metadata": {
        "id": "x6WTg_ieHlgK"
      },
      "source": [
        ""
      ],
      "execution_count": 15,
      "outputs": []
    },
    {
      "cell_type": "markdown",
      "metadata": {
        "id": "Vol4mTrpNdpg"
      },
      "source": [
        "Ya que se han corregido los registros con problemas, volvemos a revisar los valores para comprobar que la fuente de datos esté preparada."
      ]
    },
    {
      "cell_type": "code",
      "metadata": {
        "colab": {
          "base_uri": "https://localhost:8080/",
          "height": 143
        },
        "id": "HlgUGeH2oHSo",
        "outputId": "3234bba1-739d-41f2-8b45-036ac9c3ca99"
      },
      "source": [
        "prepared.iloc[nullrowsN]"
      ],
      "execution_count": 16,
      "outputs": [
        {
          "output_type": "execute_result",
          "data": {
            "text/html": [
              "<div>\n",
              "<style scoped>\n",
              "    .dataframe tbody tr th:only-of-type {\n",
              "        vertical-align: middle;\n",
              "    }\n",
              "\n",
              "    .dataframe tbody tr th {\n",
              "        vertical-align: top;\n",
              "    }\n",
              "\n",
              "    .dataframe thead th {\n",
              "        text-align: right;\n",
              "    }\n",
              "</style>\n",
              "<table border=\"1\" class=\"dataframe\">\n",
              "  <thead>\n",
              "    <tr style=\"text-align: right;\">\n",
              "      <th></th>\n",
              "      <th>CrimeId</th>\n",
              "      <th>OriginalCrimeTypeName</th>\n",
              "      <th>OffenseDate</th>\n",
              "      <th>CallTime</th>\n",
              "      <th>CallDateTime</th>\n",
              "      <th>Disposition</th>\n",
              "      <th>Address</th>\n",
              "      <th>City</th>\n",
              "      <th>State</th>\n",
              "      <th>AgencyId</th>\n",
              "      <th>Range</th>\n",
              "      <th>AddressType</th>\n",
              "    </tr>\n",
              "  </thead>\n",
              "  <tbody>\n",
              "    <tr>\n",
              "      <th>5771</th>\n",
              "      <td>160942112</td>\n",
              "      <td>Auto Boost / Strip</td>\n",
              "      <td>2016-04-03T00:00:00</td>\n",
              "      <td>14:30</td>\n",
              "      <td>2016-04-03T14:30:00</td>\n",
              "      <td>REP</td>\n",
              "      <td>Martin Luther King Dr/bowling Green Dr</td>\n",
              "      <td>Not Defined</td>\n",
              "      <td>CA</td>\n",
              "      <td>1</td>\n",
              "      <td>NaN</td>\n",
              "      <td>Premise Address</td>\n",
              "    </tr>\n",
              "    <tr>\n",
              "      <th>8021</th>\n",
              "      <td>160952280</td>\n",
              "      <td>Auto Boost / Strip</td>\n",
              "      <td>2016-04-04T00:00:00</td>\n",
              "      <td>14:46</td>\n",
              "      <td>2016-04-04T14:46:00</td>\n",
              "      <td>REP</td>\n",
              "      <td>Martin Luther King Dr/nancy Pelosi Dr</td>\n",
              "      <td>San Francisco</td>\n",
              "      <td>CA</td>\n",
              "      <td>1</td>\n",
              "      <td>NaN</td>\n",
              "      <td>Premise Address</td>\n",
              "    </tr>\n",
              "    <tr>\n",
              "      <th>8473</th>\n",
              "      <td>160953118</td>\n",
              "      <td>Auto Boost / Strip</td>\n",
              "      <td>2016-04-04T00:00:00</td>\n",
              "      <td>18:11</td>\n",
              "      <td>2016-04-04T18:11:00</td>\n",
              "      <td>REP</td>\n",
              "      <td>Conservatory Drive E/john F Kennedy Dr</td>\n",
              "      <td>Not Defined</td>\n",
              "      <td>CA</td>\n",
              "      <td>1</td>\n",
              "      <td>NaN</td>\n",
              "      <td>Premise Address</td>\n",
              "    </tr>\n",
              "  </tbody>\n",
              "</table>\n",
              "</div>"
            ],
            "text/plain": [
              "        CrimeId OriginalCrimeTypeName  ... Range      AddressType\n",
              "5771  160942112    Auto Boost / Strip  ...   NaN  Premise Address\n",
              "8021  160952280    Auto Boost / Strip  ...   NaN  Premise Address\n",
              "8473  160953118    Auto Boost / Strip  ...   NaN  Premise Address\n",
              "\n",
              "[3 rows x 12 columns]"
            ]
          },
          "metadata": {},
          "execution_count": 16
        }
      ]
    },
    {
      "cell_type": "markdown",
      "metadata": {
        "id": "Hd9gPU85OC1W"
      },
      "source": [
        "Como revisión adicional, revisamos el campo \"Disposition\", el cual comparamos contra la lista \"San Francisco Police Deparment - Disposition codes\" obtenida desde Kaggle. Cargamos la lista de códigos y comparamos la existencia de los códigos en la lista para obtener los códigos que no existen:"
      ]
    },
    {
      "cell_type": "code",
      "metadata": {
        "id": "gtR8jGi-oboF"
      },
      "source": [
        "sfpddispocodes = pd.read_csv('sfpd_disposition_codes.csv')"
      ],
      "execution_count": 17,
      "outputs": []
    },
    {
      "cell_type": "code",
      "metadata": {
        "colab": {
          "base_uri": "https://localhost:8080/"
        },
        "id": "-5yTstb0qniT",
        "outputId": "4916f476-2fe9-4f6d-c976-046b9c0f8b62"
      },
      "source": [
        "nodispocode = prepared.merge(sfpddispocodes, on=['Disposition'], how='left', indicator=True)\n",
        "\n",
        "nodispocode[nodispocode['_merge'] == 'left_only']['Disposition'].value_counts()"
      ],
      "execution_count": 18,
      "outputs": [
        {
          "output_type": "execute_result",
          "data": {
            "text/plain": [
              "Not recorded    543\n",
              "INC              17\n",
              "CRT               2\n",
              "Name: Disposition, dtype: int64"
            ]
          },
          "metadata": {},
          "execution_count": 18
        }
      ]
    },
    {
      "cell_type": "markdown",
      "metadata": {
        "id": "MAbK6HxtrwlK"
      },
      "source": [
        "Una vez encontrados todos los códigos inexistentes, los reemplzamos por el código \"ND\" que de acuerdo a la lista, corresponden a \"No Disposition\":"
      ]
    },
    {
      "cell_type": "code",
      "metadata": {
        "id": "S8P_b329OjA7"
      },
      "source": [
        "prepared['Disposition'].replace({'Not recorded': 'ND', 'INC': 'ND', 'CRT': 'ND'}, inplace=True)"
      ],
      "execution_count": 19,
      "outputs": []
    },
    {
      "cell_type": "markdown",
      "metadata": {
        "id": "aQh6K8HrtmkP"
      },
      "source": [
        "Ahora sí estamos listos para convertir el campo \"AgencyId\" a un campo de tipo número y los campos \"CallDateTime\" y \"OffenseDate\" al tipo fecha:"
      ]
    },
    {
      "cell_type": "code",
      "metadata": {
        "id": "CtHkmF9F5U_d"
      },
      "source": [
        "prepared['CallDateTime'] = pd.to_datetime(prepared['CallDateTime'], errors='coerce')\n",
        "prepared['OffenseDate'] = pd.to_datetime(prepared['OffenseDate'], errors='coerce')\n",
        "prepared['AgencyId'] = pd.to_numeric(prepared['AgencyId'], errors='coerce')"
      ],
      "execution_count": 20,
      "outputs": []
    },
    {
      "cell_type": "markdown",
      "metadata": {
        "id": "aAjNk3Ty6zbp"
      },
      "source": [
        "Removemos columnas innecesarias:\n",
        "La columna \"OffenseDate\" parecería innecesaria, pero la dejamos porque puede ser que se de el caso de reportar un crimen de una fecha distinta a la de la llamada recibida.\n",
        "La columna \"CallTime\" es innecesaria porque el valor del tiempo ya está incluido en la columna \"CallDateTime\".\n",
        "La columna \"Range\" no contiene ningún valor, por lo que se considera innecesaria."
      ]
    },
    {
      "cell_type": "code",
      "metadata": {
        "id": "M2H1LHv6083-"
      },
      "source": [
        "prepared.drop(columns=['CallTime', 'Range'], inplace=True)"
      ],
      "execution_count": 21,
      "outputs": []
    },
    {
      "cell_type": "code",
      "metadata": {
        "colab": {
          "base_uri": "https://localhost:8080/"
        },
        "id": "a91IZA0DtJgT",
        "outputId": "82fd7f69-a576-4918-8695-aa8dc511245a"
      },
      "source": [
        "prepared.dtypes"
      ],
      "execution_count": 22,
      "outputs": [
        {
          "output_type": "execute_result",
          "data": {
            "text/plain": [
              "CrimeId                           int64\n",
              "OriginalCrimeTypeName            object\n",
              "OffenseDate              datetime64[ns]\n",
              "CallDateTime             datetime64[ns]\n",
              "Disposition                      object\n",
              "Address                          object\n",
              "City                             object\n",
              "State                            object\n",
              "AgencyId                          int64\n",
              "AddressType                      object\n",
              "dtype: object"
            ]
          },
          "metadata": {},
          "execution_count": 22
        }
      ]
    },
    {
      "cell_type": "markdown",
      "metadata": {
        "id": "Z_OuOJMFs_OK"
      },
      "source": [
        "La primer columna \"CrimeId\" debería ser el campo llave de esta fuente de datos, por lo que revisamos si contiene valores únicos:"
      ]
    },
    {
      "cell_type": "code",
      "metadata": {
        "colab": {
          "base_uri": "https://localhost:8080/",
          "height": 238
        },
        "id": "jncvTHPStIoc",
        "outputId": "9a019a30-b599-4f22-bdfb-6b42cf0c5d57"
      },
      "source": [
        "prepared[prepared.duplicated(subset=['CrimeId'],keep=False)]"
      ],
      "execution_count": 23,
      "outputs": [
        {
          "output_type": "execute_result",
          "data": {
            "text/html": [
              "<div>\n",
              "<style scoped>\n",
              "    .dataframe tbody tr th:only-of-type {\n",
              "        vertical-align: middle;\n",
              "    }\n",
              "\n",
              "    .dataframe tbody tr th {\n",
              "        vertical-align: top;\n",
              "    }\n",
              "\n",
              "    .dataframe thead th {\n",
              "        text-align: right;\n",
              "    }\n",
              "</style>\n",
              "<table border=\"1\" class=\"dataframe\">\n",
              "  <thead>\n",
              "    <tr style=\"text-align: right;\">\n",
              "      <th></th>\n",
              "      <th>CrimeId</th>\n",
              "      <th>OriginalCrimeTypeName</th>\n",
              "      <th>OffenseDate</th>\n",
              "      <th>CallDateTime</th>\n",
              "      <th>Disposition</th>\n",
              "      <th>Address</th>\n",
              "      <th>City</th>\n",
              "      <th>State</th>\n",
              "      <th>AgencyId</th>\n",
              "      <th>AddressType</th>\n",
              "    </tr>\n",
              "  </thead>\n",
              "  <tbody>\n",
              "    <tr>\n",
              "      <th>26</th>\n",
              "      <td>160913455</td>\n",
              "      <td>Vandalism</td>\n",
              "      <td>2016-03-31</td>\n",
              "      <td>2016-03-31 20:53:00</td>\n",
              "      <td>ND</td>\n",
              "      <td>1600 Block Of Sunnydale Av</td>\n",
              "      <td>San Francisco</td>\n",
              "      <td>CA</td>\n",
              "      <td>1</td>\n",
              "      <td>Premise Address</td>\n",
              "    </tr>\n",
              "    <tr>\n",
              "      <th>1707</th>\n",
              "      <td>160913455</td>\n",
              "      <td>Susp</td>\n",
              "      <td>2016-04-01</td>\n",
              "      <td>2016-04-01 18:29:00</td>\n",
              "      <td>GOA</td>\n",
              "      <td>Geary St/larkin St</td>\n",
              "      <td>San Francisco</td>\n",
              "      <td>CA</td>\n",
              "      <td>1</td>\n",
              "      <td>Intersection</td>\n",
              "    </tr>\n",
              "    <tr>\n",
              "      <th>3792</th>\n",
              "      <td>160913455</td>\n",
              "      <td>Passing Call</td>\n",
              "      <td>2016-04-02</td>\n",
              "      <td>2016-04-02 17:11:00</td>\n",
              "      <td>ND</td>\n",
              "      <td>900 Block Of Market St</td>\n",
              "      <td>San Francisco</td>\n",
              "      <td>CA</td>\n",
              "      <td>1</td>\n",
              "      <td>Premise Address</td>\n",
              "    </tr>\n",
              "    <tr>\n",
              "      <th>7045</th>\n",
              "      <td>160950496</td>\n",
              "      <td>Passing Call</td>\n",
              "      <td>2016-04-04</td>\n",
              "      <td>2016-04-04 06:51:00</td>\n",
              "      <td>HAN</td>\n",
              "      <td>University St/felton St</td>\n",
              "      <td>San Francisco</td>\n",
              "      <td>CA</td>\n",
              "      <td>1</td>\n",
              "      <td>Intersection</td>\n",
              "    </tr>\n",
              "    <tr>\n",
              "      <th>7046</th>\n",
              "      <td>160950496</td>\n",
              "      <td>Suspicious Vehicle</td>\n",
              "      <td>2016-04-04</td>\n",
              "      <td>2016-04-04 06:51:00</td>\n",
              "      <td>ND</td>\n",
              "      <td>1400 Block Of Cabrillo St</td>\n",
              "      <td>San Francisco</td>\n",
              "      <td>CA</td>\n",
              "      <td>1</td>\n",
              "      <td>Premise Address</td>\n",
              "    </tr>\n",
              "    <tr>\n",
              "      <th>7047</th>\n",
              "      <td>160950496</td>\n",
              "      <td>Trespasser</td>\n",
              "      <td>2016-04-04</td>\n",
              "      <td>2016-04-04 06:51:00</td>\n",
              "      <td>CAN</td>\n",
              "      <td>Block Of Hampshire St</td>\n",
              "      <td>San Francisco</td>\n",
              "      <td>CA</td>\n",
              "      <td>1</td>\n",
              "      <td>Premise Address</td>\n",
              "    </tr>\n",
              "  </tbody>\n",
              "</table>\n",
              "</div>"
            ],
            "text/plain": [
              "        CrimeId OriginalCrimeTypeName  ... AgencyId      AddressType\n",
              "26    160913455             Vandalism  ...        1  Premise Address\n",
              "1707  160913455                  Susp  ...        1     Intersection\n",
              "3792  160913455          Passing Call  ...        1  Premise Address\n",
              "7045  160950496          Passing Call  ...        1     Intersection\n",
              "7046  160950496    Suspicious Vehicle  ...        1  Premise Address\n",
              "7047  160950496            Trespasser  ...        1  Premise Address\n",
              "\n",
              "[6 rows x 10 columns]"
            ]
          },
          "metadata": {},
          "execution_count": 23
        }
      ]
    },
    {
      "cell_type": "markdown",
      "metadata": {
        "id": "EJvTn0gQPECe"
      },
      "source": [
        "Al existir valores duplicados, sería imposible establecer este campo como \"índice\", por lo que modificamos los valores duplicados por valores únicos, utilizando el valor máximo existente para la columna \"CrimeId\":"
      ]
    },
    {
      "cell_type": "code",
      "metadata": {
        "colab": {
          "base_uri": "https://localhost:8080/"
        },
        "id": "bOtZU9UTE9Xx",
        "outputId": "ad89038e-b919-4844-bad5-ba8fc87afddf"
      },
      "source": [
        "duplicated = prepared.index[prepared.duplicated(subset=['CrimeId'],keep=False)].tolist()\n",
        "max = prepared['CrimeId'].max()\n",
        "\n",
        "for idx in duplicated:\n",
        "  max += 1\n",
        "  prepared['CrimeId'].iloc[idx] = max\n",
        " \n",
        "  "
      ],
      "execution_count": 24,
      "outputs": [
        {
          "output_type": "stream",
          "name": "stderr",
          "text": [
            "/usr/local/lib/python3.7/dist-packages/pandas/core/indexing.py:670: SettingWithCopyWarning: \n",
            "A value is trying to be set on a copy of a slice from a DataFrame\n",
            "\n",
            "See the caveats in the documentation: https://pandas.pydata.org/pandas-docs/stable/user_guide/indexing.html#returning-a-view-versus-a-copy\n",
            "  iloc._setitem_with_indexer(indexer, value)\n"
          ]
        }
      ]
    },
    {
      "cell_type": "markdown",
      "metadata": {
        "id": "XZa1m2H_Nm7I"
      },
      "source": [
        "Finalmente, con todos los datos preparados y convertidos al formato adecuado, generamos la nueva fuente de datos en formato CSV y en formato JSON."
      ]
    },
    {
      "cell_type": "code",
      "metadata": {
        "id": "qeKQwCF_ylMb"
      },
      "source": [
        "prepared.to_csv('data_act_01_prepared.csv', sep=',', index=False, header=True)"
      ],
      "execution_count": 25,
      "outputs": []
    },
    {
      "cell_type": "code",
      "metadata": {
        "id": "ufR-KX0F2lVG"
      },
      "source": [
        "prepared.to_json('data_act_01_prepared.json', orient='records', lines=True)"
      ],
      "execution_count": 26,
      "outputs": []
    },
    {
      "cell_type": "code",
      "metadata": {
        "colab": {
          "base_uri": "https://localhost:8080/",
          "height": 363
        },
        "id": "PgVGRjkG9t5P",
        "outputId": "90ff9d9b-9d43-41e5-e814-8c50ae6a1aaf"
      },
      "source": [
        "prepared.head(10)"
      ],
      "execution_count": 27,
      "outputs": [
        {
          "output_type": "execute_result",
          "data": {
            "text/html": [
              "<div>\n",
              "<style scoped>\n",
              "    .dataframe tbody tr th:only-of-type {\n",
              "        vertical-align: middle;\n",
              "    }\n",
              "\n",
              "    .dataframe tbody tr th {\n",
              "        vertical-align: top;\n",
              "    }\n",
              "\n",
              "    .dataframe thead th {\n",
              "        text-align: right;\n",
              "    }\n",
              "</style>\n",
              "<table border=\"1\" class=\"dataframe\">\n",
              "  <thead>\n",
              "    <tr style=\"text-align: right;\">\n",
              "      <th></th>\n",
              "      <th>CrimeId</th>\n",
              "      <th>OriginalCrimeTypeName</th>\n",
              "      <th>OffenseDate</th>\n",
              "      <th>CallDateTime</th>\n",
              "      <th>Disposition</th>\n",
              "      <th>Address</th>\n",
              "      <th>City</th>\n",
              "      <th>State</th>\n",
              "      <th>AgencyId</th>\n",
              "      <th>AddressType</th>\n",
              "    </tr>\n",
              "  </thead>\n",
              "  <tbody>\n",
              "    <tr>\n",
              "      <th>0</th>\n",
              "      <td>160903280</td>\n",
              "      <td>Assault / Battery</td>\n",
              "      <td>2016-03-30</td>\n",
              "      <td>2016-03-30 18:42:00</td>\n",
              "      <td>REP</td>\n",
              "      <td>100 Block Of Chilton Av</td>\n",
              "      <td>San Francisco</td>\n",
              "      <td>CA</td>\n",
              "      <td>1</td>\n",
              "      <td>Premise Address</td>\n",
              "    </tr>\n",
              "    <tr>\n",
              "      <th>1</th>\n",
              "      <td>160912272</td>\n",
              "      <td>Homeless Complaint</td>\n",
              "      <td>2016-03-31</td>\n",
              "      <td>2016-03-31 15:31:00</td>\n",
              "      <td>GOA</td>\n",
              "      <td>2300 Block Of Market St</td>\n",
              "      <td>San Francisco</td>\n",
              "      <td>CA</td>\n",
              "      <td>1</td>\n",
              "      <td>Premise Address</td>\n",
              "    </tr>\n",
              "    <tr>\n",
              "      <th>2</th>\n",
              "      <td>160912590</td>\n",
              "      <td>Susp Info</td>\n",
              "      <td>2016-03-31</td>\n",
              "      <td>2016-03-31 16:49:00</td>\n",
              "      <td>GOA</td>\n",
              "      <td>2300 Block Of Market St</td>\n",
              "      <td>San Francisco</td>\n",
              "      <td>CA</td>\n",
              "      <td>1</td>\n",
              "      <td>Premise Address</td>\n",
              "    </tr>\n",
              "    <tr>\n",
              "      <th>3</th>\n",
              "      <td>160912801</td>\n",
              "      <td>Report</td>\n",
              "      <td>2016-03-31</td>\n",
              "      <td>2016-03-31 17:38:00</td>\n",
              "      <td>GOA</td>\n",
              "      <td>500 Block Of 7th St</td>\n",
              "      <td>San Francisco</td>\n",
              "      <td>CA</td>\n",
              "      <td>1</td>\n",
              "      <td>Premise Address</td>\n",
              "    </tr>\n",
              "    <tr>\n",
              "      <th>4</th>\n",
              "      <td>160912811</td>\n",
              "      <td>594</td>\n",
              "      <td>2016-03-31</td>\n",
              "      <td>2016-03-31 17:42:00</td>\n",
              "      <td>REP</td>\n",
              "      <td>Beale St/bryant St</td>\n",
              "      <td>San Francisco</td>\n",
              "      <td>CA</td>\n",
              "      <td>1</td>\n",
              "      <td>Intersection</td>\n",
              "    </tr>\n",
              "    <tr>\n",
              "      <th>5</th>\n",
              "      <td>160913003</td>\n",
              "      <td>Ref'd</td>\n",
              "      <td>2016-03-31</td>\n",
              "      <td>2016-03-31 18:29:00</td>\n",
              "      <td>GOA</td>\n",
              "      <td>16th St/pond St</td>\n",
              "      <td>San Francisco</td>\n",
              "      <td>CA</td>\n",
              "      <td>1</td>\n",
              "      <td>Intersection</td>\n",
              "    </tr>\n",
              "    <tr>\n",
              "      <th>6</th>\n",
              "      <td>160913050</td>\n",
              "      <td>Homeless Complaint</td>\n",
              "      <td>2016-03-31</td>\n",
              "      <td>2016-03-31 18:43:00</td>\n",
              "      <td>ADV</td>\n",
              "      <td>Berwick Pl/harrison St</td>\n",
              "      <td>San Francisco</td>\n",
              "      <td>CA</td>\n",
              "      <td>1</td>\n",
              "      <td>Intersection</td>\n",
              "    </tr>\n",
              "    <tr>\n",
              "      <th>7</th>\n",
              "      <td>160913056</td>\n",
              "      <td>Homeless Complaint</td>\n",
              "      <td>2016-03-31</td>\n",
              "      <td>2016-03-31 18:47:00</td>\n",
              "      <td>HAN</td>\n",
              "      <td>Florida St/mariposa St</td>\n",
              "      <td>San Francisco</td>\n",
              "      <td>CA</td>\n",
              "      <td>1</td>\n",
              "      <td>Intersection</td>\n",
              "    </tr>\n",
              "    <tr>\n",
              "      <th>8</th>\n",
              "      <td>160913078</td>\n",
              "      <td>Agg Assault / Adw Dv</td>\n",
              "      <td>2016-03-31</td>\n",
              "      <td>2016-03-31 18:52:00</td>\n",
              "      <td>ND</td>\n",
              "      <td>100 Block Of Genebern Wy</td>\n",
              "      <td>San Francisco</td>\n",
              "      <td>CA</td>\n",
              "      <td>1</td>\n",
              "      <td>Premise Address</td>\n",
              "    </tr>\n",
              "    <tr>\n",
              "      <th>9</th>\n",
              "      <td>160913103</td>\n",
              "      <td>Encampment</td>\n",
              "      <td>2016-03-31</td>\n",
              "      <td>2016-03-31 18:57:00</td>\n",
              "      <td>ADV</td>\n",
              "      <td>2700 Block Of Folsom St</td>\n",
              "      <td>San Francisco</td>\n",
              "      <td>CA</td>\n",
              "      <td>1</td>\n",
              "      <td>Premise Address</td>\n",
              "    </tr>\n",
              "  </tbody>\n",
              "</table>\n",
              "</div>"
            ],
            "text/plain": [
              "     CrimeId OriginalCrimeTypeName OffenseDate  ... State AgencyId      AddressType\n",
              "0  160903280     Assault / Battery  2016-03-30  ...    CA        1  Premise Address\n",
              "1  160912272    Homeless Complaint  2016-03-31  ...    CA        1  Premise Address\n",
              "2  160912590             Susp Info  2016-03-31  ...    CA        1  Premise Address\n",
              "3  160912801                Report  2016-03-31  ...    CA        1  Premise Address\n",
              "4  160912811                   594  2016-03-31  ...    CA        1     Intersection\n",
              "5  160913003                 Ref'd  2016-03-31  ...    CA        1     Intersection\n",
              "6  160913050    Homeless Complaint  2016-03-31  ...    CA        1     Intersection\n",
              "7  160913056    Homeless Complaint  2016-03-31  ...    CA        1     Intersection\n",
              "8  160913078  Agg Assault / Adw Dv  2016-03-31  ...    CA        1  Premise Address\n",
              "9  160913103            Encampment  2016-03-31  ...    CA        1  Premise Address\n",
              "\n",
              "[10 rows x 10 columns]"
            ]
          },
          "metadata": {},
          "execution_count": 27
        }
      ]
    }
  ]
}